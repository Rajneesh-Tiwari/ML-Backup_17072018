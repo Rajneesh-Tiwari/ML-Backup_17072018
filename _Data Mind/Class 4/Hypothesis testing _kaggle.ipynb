{
 "cells": [
  {
   "cell_type": "markdown",
   "metadata": {
    "_cell_guid": "2e392be2-f09d-7083-84c3-87877ead3963",
    "_uuid": "97603aa590562c45bd990ec7b6bed9167c69f7b6"
   },
   "source": [
    "This report aims at understanding and applying **Hypothesis testing** methods such as <br>\n",
    "1.  **Normal Distribution**<br>\n",
    "2. **Student t Distribution**<br>\n",
    "3. **ANOVA**<br>\n",
    "\n",
    "Some **Machine learning** tecniques such as <br>\n",
    "1. **Random Forests** <br>\n",
    "2. **Linear Regressor**<br>\n",
    "are also used to do **predictive analysis** \n",
    "\n"
   ]
  },
  {
   "cell_type": "code",
   "execution_count": 1,
   "metadata": {
    "_cell_guid": "3ef82d69-83cd-8ce5-49da-98d3760ba1f3",
    "_uuid": "893582684d946184242624acaa867bdf8dcb6219"
   },
   "outputs": [
    {
     "name": "stderr",
     "output_type": "stream",
     "text": [
      "C:\\Users\\ADMIN\\Anaconda3\\envs\\Pytorch\\lib\\site-packages\\sklearn\\cross_validation.py:41: DeprecationWarning: This module was deprecated in version 0.18 in favor of the model_selection module into which all the refactored classes and functions are moved. Also note that the interface of the new CV iterators are different from that of this module. This module will be removed in 0.20.\n",
      "  \"This module will be removed in 0.20.\", DeprecationWarning)\n"
     ]
    }
   ],
   "source": [
    "%matplotlib inline\n",
    "import pandas as pd\n",
    "import numpy as np\n",
    "import statistics\n",
    "import seaborn as sns\n",
    "import matplotlib.pyplot as plt\n",
    "from subprocess import check_output\n",
    "from scipy import stats\n",
    "from sklearn.linear_model import LogisticRegression\n",
    "from sklearn.cross_validation import KFold   #For K-fold cross validation\n",
    "from sklearn.ensemble import RandomForestClassifier\n",
    "from sklearn.tree import DecisionTreeClassifier, export_graphviz\n",
    "from sklearn import metrics"
   ]
  },
  {
   "cell_type": "code",
   "execution_count": 2,
   "metadata": {
    "_cell_guid": "aaa9b895-2309-9dd4-121b-05e2278187bd",
    "_uuid": "8090ff5344ec0ebcd2c2a184b53c544ce24bf74e"
   },
   "outputs": [
    {
     "name": "stderr",
     "output_type": "stream",
     "text": [
      "C:\\Users\\ADMIN\\Anaconda3\\envs\\Pytorch\\lib\\site-packages\\IPython\\core\\interactiveshell.py:2728: DtypeWarning: Columns (4,24,28) have mixed types. Specify dtype option on import or set low_memory=False.\n",
      "  interactivity=interactivity, compiler=compiler, result=result)\n"
     ]
    }
   ],
   "source": [
    "path = 'F:/My startup idea/Study Material/Class 4/Hypothesis testing example/'\n",
    "payroll = pd.read_csv(path+'data.csv')"
   ]
  },
  {
   "cell_type": "markdown",
   "metadata": {
    "_cell_guid": "22cbceb4-cca4-9fe1-82e9-667a35f7b655",
    "_uuid": "fcf31c7d5e8c21a160ddfa0ec59e498fa6b1add6"
   },
   "source": [
    "**Data Cleansing**"
   ]
  },
  {
   "cell_type": "code",
   "execution_count": 3,
   "metadata": {
    "_cell_guid": "9c8a29ff-6f6b-6156-8cbc-32ab3ca32ad5",
    "_uuid": "e4fd9c23f7d8dd732a525fd61a40092680d59dbb"
   },
   "outputs": [],
   "source": [
    "payroll = payroll[pd.notnull(payroll['Payroll Department'])]\n",
    "payroll.rename(columns={'Projected Annual Salary' : 'Annual_sal'}, inplace = True)\n",
    "payroll.rename(columns={'Job Class Title' : 'Job_title'}, inplace = True)\n",
    "payroll.rename(columns={'Base Pay' : 'Base_Pay'}, inplace = True)"
   ]
  },
  {
   "cell_type": "code",
   "execution_count": 4,
   "metadata": {
    "_cell_guid": "14c499e4-c66b-d358-1c78-c40e5ef5948b",
    "_uuid": "419d2f4334ff599e5b7a987f4375b37f3cd9a2be"
   },
   "outputs": [],
   "source": [
    "for i in ['Annual_sal','Q1 Payments','Q2 Payments','Q3 Payments','Q4 Payments','Payments Over Base Pay',\n",
    "          'Total Payments','Base_Pay','Permanent Bonus Pay','Longevity Bonus Pay','Temporary Bonus Pay','Overtime Pay',\n",
    "          'Other Pay & Adjustments','Other Pay (Payroll Explorer)','Average Health Cost','Average Dental Cost',\n",
    "          'Average Basic Life','Average Benefit Cost']:\n",
    "    payroll[i] = payroll[i].str.replace('$','')"
   ]
  },
  {
   "cell_type": "markdown",
   "metadata": {
    "_cell_guid": "c6862512-0f12-d11f-9dfb-5ed1b6b5350d",
    "_uuid": "5e10f25b015d076695076c66bf72c9449a7b5bff"
   },
   "source": [
    "**Outlier removal**"
   ]
  },
  {
   "cell_type": "code",
   "execution_count": 5,
   "metadata": {
    "_cell_guid": "af8308fc-8a70-a7be-92c5-c16f1a2f30cf",
    "_uuid": "ee42b2f682d2717613e031a1e9ada5f995ddafab"
   },
   "outputs": [],
   "source": [
    "payroll = payroll[payroll.Annual_sal != 0]  \n",
    "payroll = payroll[payroll.Base_Pay != 0]\n",
    "payroll.Annual_sal = payroll.Annual_sal.astype(float)\n",
    "payroll.Base_Pay = payroll.Base_Pay.astype(float)"
   ]
  },
  {
   "cell_type": "code",
   "execution_count": 6,
   "metadata": {
    "_cell_guid": "8d21c2cb-5cd0-6029-c73c-16d81168c93b",
    "_uuid": "28f4ae9569b49ca39d5d3ee62d5fcd5e78b15b46"
   },
   "outputs": [
    {
     "data": {
      "text/plain": [
       "<matplotlib.axes._subplots.AxesSubplot at 0x12ea9501f98>"
      ]
     },
     "execution_count": 6,
     "metadata": {},
     "output_type": "execute_result"
    },
    {
     "data": {
      "image/png": "[encoded data removed]",
      "text/plain": [
       "<matplotlib.figure.Figure at 0x12eb73f5ef0>"
      ]
     },
     "metadata": {},
     "output_type": "display_data"
    }
   ],
   "source": [
    "plt.figure(figsize = (12,6))\n",
    "sns.distplot(payroll.Annual_sal,color = 'darkgreen')"
   ]
  },
  {
   "cell_type": "markdown",
   "metadata": {
    "_cell_guid": "641b8314-8549-4161-d70c-8929d0ff1028",
    "_uuid": "548f8beecdb6dc525d7de2b9ffd782ac5e8cff94"
   },
   "source": [
    "**Creating different Sample  from the population**"
   ]
  },
  {
   "cell_type": "code",
   "execution_count": 7,
   "metadata": {
    "_cell_guid": "8c5a578a-06c6-9db9-30db-95a9ad7d7c55",
    "_uuid": "d6a22db2e3dee55686ebe1ebe60454dbdf54b203"
   },
   "outputs": [],
   "source": [
    "payroll_2015 = payroll[payroll.Year ==2015]\n",
    "payroll_2016 = payroll[payroll.Year ==2016]"
   ]
  },
  {
   "cell_type": "markdown",
   "metadata": {
    "_cell_guid": "7e402c97-0a74-fad3-7343-cd64719400a4",
    "_uuid": "65744f42c1df522c6b4a2350a610d55d9088aed8"
   },
   "source": [
    "**Calculating the Population Parameters**"
   ]
  },
  {
   "cell_type": "code",
   "execution_count": 8,
   "metadata": {
    "_cell_guid": "78af4e8c-b491-1802-26e9-f28fd8218fe1",
    "_uuid": "d496e1a90b724e3ae46bcf32cac9ebdfb2dcd284"
   },
   "outputs": [
    {
     "name": "stdout",
     "output_type": "stream",
     "text": [
      "Population Mean: 76046.39152504776\n",
      "Population Standard Deviation: 34232.25489729045\n"
     ]
    }
   ],
   "source": [
    "pop_mean_2015 = payroll_2015['Annual_sal'].mean()\n",
    "pop_std_2015 = statistics.stdev(payroll_2015.Annual_sal)\n",
    "print(\"Population Mean: \"+str(pop_mean_2015))\n",
    "print(\"Population Standard Deviation: \"+str(pop_std_2015))"
   ]
  },
  {
   "cell_type": "markdown",
   "metadata": {
    "_cell_guid": "f7fc0bb7-c6b2-ec72-e56c-e9428fa67f8f",
    "_uuid": "d8c9e7db5d462c1eba6dd2af9d3c8a3d074cdb1a"
   },
   "source": [
    "**Calculating the Sample Parameters**"
   ]
  },
  {
   "cell_type": "code",
   "execution_count": 9,
   "metadata": {
    "_cell_guid": "59bd0435-89ef-e041-343b-8b64d2d82c3c",
    "_uuid": "2e5eab411f0dc7892d9d6ae41deb1f4edaefb0ad"
   },
   "outputs": [
    {
     "name": "stdout",
     "output_type": "stream",
     "text": [
      "Population Mean: 78711.19987224769\n",
      "Sample Mean: 79503.14452218622\n",
      "Sample Standard Deviation: 34277.1252686611\n"
     ]
    }
   ],
   "source": [
    "print(\"Population Mean: \"+str(payroll_2016['Annual_sal'].mean()))\n",
    "payroll_2016_sample = payroll_2016.sample(frac=0.10)\n",
    "sample_mean_2016 = payroll_2016_sample['Annual_sal'].mean()\n",
    "print(\"Sample Mean: \"+str(sample_mean_2016))\n",
    "sample_std_2016 = statistics.stdev(payroll_2016_sample.Annual_sal)\n",
    "print(\"Sample Standard Deviation: \"+str(sample_std_2016))"
   ]
  },
  {
   "cell_type": "markdown",
   "metadata": {
    "_cell_guid": "128407af-dcf5-5092-1529-41fdc4859db9",
    "_uuid": "6fc197b0f5cad458652cca7b920ca099752ed753"
   },
   "source": [
    "**Hypothesis Testing**"
   ]
  },
  {
   "cell_type": "markdown",
   "metadata": {
    "_cell_guid": "6e981fd5-2b23-a17a-a4cb-edbdb9f5fefd",
    "_uuid": "f591a6069bd969621b2047c9d9ab2b5c687d6aec"
   },
   "source": [
    "<b>Normal distribution</b><br><br>\n",
    "<b>Null Hypothesis</b> : Pay does not increase in 2016<br>\n",
    "<b>Alternate Hypothesis</b>: It increases<br>\n",
    "<b>Population parameters</b>: Mean = pop_mean_2015, standard deviation = pop_std_2015<br>\n",
    "<b>Sample parameters</b> :   Mean = sample_mean_2016, standard deviation = sample_std_2016<br>"
   ]
  },
  {
   "cell_type": "code",
   "execution_count": 10,
   "metadata": {
    "_cell_guid": "4b09beb1-4545-3921-ffdb-1e02108cbf84",
    "_uuid": "dc793cd9978cec166780e6ee0f2a7ce1a7b2dc30"
   },
   "outputs": [
    {
     "name": "stdout",
     "output_type": "stream",
     "text": [
      "9.522456256613236\n"
     ]
    }
   ],
   "source": [
    "import math\n",
    "# Confidence Level 95 %  for one sided Normal curve\n",
    "zscore_critical = 1.65 \n",
    "# Calculate the test statistics \n",
    "zscore_test_stat = ((sample_mean_2016 - pop_mean_2015)*math.sqrt(8916))/sample_std_2016\n",
    "print(zscore_test_stat)"
   ]
  },
  {
   "cell_type": "markdown",
   "metadata": {
    "_cell_guid": "c1172db8-c85a-481d-8239-540955253c68",
    "_uuid": "b9fc6e4d48a3b6fcf9c21b9d45b93534cd91a1ab"
   },
   "source": [
    "<b>Conclusion</b>: As the test statistics fall into the rejection region the null hypothesis is rejected<br>\n",
    "and it can be concluded that the Annual salaries increase in 2016.<br>\n",
    "However, we will first check for the <b>Type 1</b> and <b>Type 2 </b>Errors"
   ]
  },
  {
   "cell_type": "markdown",
   "metadata": {
    "_cell_guid": "b95bd9c7-51fd-175e-c14f-1ea22adedfaf",
    "_uuid": "f48ab5920b4f0a6d0ebbfefe20ee8a1a30c9a691"
   },
   "source": [
    "**Type 1 type 2 hypothesis error**<br>\n",
    "In statistical hypothesis testing, a type I error is the incorrect rejection of a true null hypothesis (a \"false positive\"), while a type II error is incorrectly retaining a false null hypothesis (a \"false negative\")."
   ]
  },
  {
   "cell_type": "code",
   "execution_count": 11,
   "metadata": {
    "_cell_guid": "9d0e2a9b-0305-7451-923a-45f7a2a7a56a",
    "_uuid": "99d0348e601a5cda0650743862f56319c9ea7b73"
   },
   "outputs": [
    {
     "name": "stdout",
     "output_type": "stream",
     "text": [
      "0.07937359898023319\n"
     ]
    }
   ],
   "source": [
    "# we are basically checking the true value of the population characteristics\n",
    "pop_mean_2016 = payroll_2016['Annual_sal'].mean()\n",
    "pop_std_2016 = statistics.stdev(payroll_2016.Annual_sal)\n",
    "\n",
    "zscore_error = ((pop_mean_2016 - pop_mean_2015)/pop_std_2016)\n",
    "print(zscore_error)"
   ]
  },
  {
   "cell_type": "markdown",
   "metadata": {
    "_cell_guid": "f052b395-0e00-51b0-12ed-466474c59963",
    "_uuid": "cbb32c8d6d6b8844607e537dfa6121f6fbdb3563"
   },
   "source": [
    "We can clearly see that we encountered a Type 1 error as the population mean is well within acceptable region"
   ]
  },
  {
   "cell_type": "markdown",
   "metadata": {
    "_cell_guid": "3d8a94fb-41f1-08ad-9ad4-3ba03f2f14ba",
    "_uuid": "e079dc16e48e33102fafb08c35d2efd6ae8712bd"
   },
   "source": [
    "**Student T-distribution**<br>\n",
    "**Null Hypothesis**: pay does not increase in 2016<br>\n",
    "**Alternate Hypothesis**: it increases<br>\n",
    "**Population parameters**: Mean = pop_mean_2015, standard deviation = pop_std_2015<br>\n",
    "**Sample parameters** : Mean = sample_mean_2016, standard deviation = sample_std_2016<br>"
   ]
  },
  {
   "cell_type": "code",
   "execution_count": 12,
   "metadata": {
    "_cell_guid": "30cec429-224a-6591-fb91-45fa911890fc",
    "_uuid": "ac98555e1a68e42814939b3e2682a62d406abd73"
   },
   "outputs": [],
   "source": [
    "#Calculating the Sample Parameters**\n",
    "payroll_2014 = payroll[payroll.Year ==2014]\n",
    "payroll_2015 = payroll[payroll.Year ==2015]\n",
    "# Creating Sample distribution for T statistics\n",
    "payroll_t_2015_sample = payroll_2015.sample(frac=0.00062)"
   ]
  },
  {
   "cell_type": "code",
   "execution_count": 13,
   "metadata": {
    "_cell_guid": "e4159db7-02aa-a0f3-37c0-f6c632decf0a",
    "_uuid": "79a3568f94588730c493c64fb8cbda4ff08b5ad4"
   },
   "outputs": [],
   "source": [
    "payroll_t_2015_sample = payroll_2015.sample(frac=0.00062)\n",
    "N = len(payroll_t_2015_sample)\n",
    "sample_mean_2015 = payroll_t_2015_sample['Annual_sal'].mean()\n",
    "sample_std_2015 = statistics.stdev(payroll_t_2015_sample.Annual_sal)\n",
    "pop_std_2014  = statistics.stdev(payroll_2014.Annual_sal)\n",
    "pop_mean_2014 = payroll_2014['Annual_sal'].mean()"
   ]
  },
  {
   "cell_type": "code",
   "execution_count": 14,
   "metadata": {
    "_cell_guid": "f4505916-91db-2189-4097-43f567b5c583",
    "_uuid": "d4c37e4341ac4a8712d68b7ce7f5636faf0c4820"
   },
   "outputs": [
    {
     "name": "stdout",
     "output_type": "stream",
     "text": [
      "-1.7296994026636117\n"
     ]
    }
   ],
   "source": [
    "# Confidence Level 95 %  for one sided T curve\n",
    "t_critical = 1.311\n",
    "\n",
    "# Calculate the test statistics \n",
    "tscore_test_stat = ((sample_mean_2015 - pop_mean_2014)*math.sqrt(N))/sample_std_2015\n",
    "\n",
    "print(tscore_test_stat)"
   ]
  },
  {
   "cell_type": "markdown",
   "metadata": {
    "_cell_guid": "04e74bc0-16a9-d53e-2dbf-938f7a988a42",
    "_uuid": "646c10888c4544a74c1cb70494064a156b87e4f6"
   },
   "source": [
    "Depending on the Test score , we can accept/Reject the Null"
   ]
  },
  {
   "cell_type": "markdown",
   "metadata": {
    "_cell_guid": "0fba82e3-0385-ba19-15a1-8287a02521c1",
    "_uuid": "9ea9e9ee9d4cb07ac59c16d6954e8b709b2c9e99"
   },
   "source": [
    "**** F Distribution and ANOVA**"
   ]
  },
  {
   "cell_type": "markdown",
   "metadata": {
    "_cell_guid": "0daafdb7-aeba-e8c1-0e51-4e751cf05dac",
    "_uuid": "af3b141679cf5a282c8b74feadd689ec7d4b9e60"
   },
   "source": [
    "The means from three different samples are compared using ANOVA<br>\n",
    "It is similar to applying t-tests over multiple sample\n",
    "ANOVA : https://statistics.laerd.com/statistical-guides/one-way-anova-statistical-guide.php"
   ]
  },
  {
   "cell_type": "code",
   "execution_count": 15,
   "metadata": {
    "_cell_guid": "d1ad5c0f-1081-aaf0-c2a4-440c6b7320e0",
    "_uuid": "58055d2e3dc590918507c7b5888b050081efdb8a"
   },
   "outputs": [
    {
     "name": "stdout",
     "output_type": "stream",
     "text": [
      "Sample Mean 2014 70319.03657142857\n",
      "Sample Mean 2015 73250.48742857143\n",
      "Sample Mean 2016 33602.65371428572\n"
     ]
    }
   ],
   "source": [
    "payroll_2014 = payroll[payroll.Year ==2014]\n",
    "payroll_2014_elec = payroll_2014[payroll_2014.Job_title == 'Electrician']\n",
    "payroll_2015_elec = payroll_2015[payroll_2015.Job_title == 'Electrician']\n",
    "payroll_2016_elec = payroll_2016[payroll_2016.Job_title == 'Electrician']\n",
    "sample_elec_2014 = payroll_2014_elec.sample(frac=0.47)\n",
    "sample_elec_mean_2014 = sample_elec_2014['Base_Pay'].mean()\n",
    "print(\"Sample Mean 2014 \"+str(sample_elec_mean_2014))\n",
    "sample_elec_2015 = payroll_2015_elec.sample(frac=0.41)\n",
    "sample_elec_mean_2015 = sample_elec_2015['Base_Pay'].mean()\n",
    "print(\"Sample Mean 2015 \"+str(sample_elec_mean_2015))\n",
    "sample_elec_2016 = payroll_2016_elec.sample(frac=0.22)\n",
    "sample_elec_mean_2016 = sample_elec_2016['Base_Pay'].mean()\n",
    "print(\"Sample Mean 2016 \"+str(sample_elec_mean_2016))\n",
    "# Creating the Samples of the base pays over three years\n",
    "sam_1 = sample_elec_2014.Base_Pay\n",
    "sam_2 = sample_elec_2015.Base_Pay\n",
    "sam_3 = sample_elec_2016.Base_Pay"
   ]
  },
  {
   "cell_type": "markdown",
   "metadata": {
    "_cell_guid": "6c0f7e3e-d2eb-18cb-d14d-c8b45ef950ec",
    "_uuid": "037b8f63cd04f71e8136e90078e87caf1333761e"
   },
   "source": [
    "**Calculating the test statistics**"
   ]
  },
  {
   "cell_type": "code",
   "execution_count": 16,
   "metadata": {
    "_cell_guid": "d10bc03b-262c-7774-706e-f48e71e4da10",
    "_uuid": "80449868733d3cfa3f686a25d70eb391d02d6752"
   },
   "outputs": [
    {
     "name": "stdout",
     "output_type": "stream",
     "text": [
      "F value: 42.22967328098937\n",
      "P value: 4.3532810445831516e-14 \n",
      "\n"
     ]
    }
   ],
   "source": [
    "f, p = stats.f_oneway(sam_1, sam_2, sam_3 )\n",
    "print ('F value:', f)\n",
    "print ('P value:', p, '\\n')"
   ]
  },
  {
   "cell_type": "markdown",
   "metadata": {
    "_cell_guid": "1d785156-ace9-6d45-96fa-d8e2b61b7f77",
    "_uuid": "90a1b2665320b8c1e247b88cf9a6706396ac78c6"
   },
   "source": [
    "P value is very low, hence null hypothesis is rejected"
   ]
  },
  {
   "cell_type": "markdown",
   "metadata": {
    "_cell_guid": "1270aa06-a166-8ab6-d475-d8e03db12b9d",
    "_uuid": "83f24c359f0846e1c7645be4598ecf345a021e28"
   },
   "source": [
    "**Predictive Analysis using Machine Learning**"
   ]
  },
  {
   "cell_type": "code",
   "execution_count": 17,
   "metadata": {
    "_cell_guid": "80b1f9de-5bd2-4513-0017-2f1fd4d29835",
    "_uuid": "0f9055ee55abfe42a7769978597119d16402d9b5"
   },
   "outputs": [],
   "source": [
    "# Transform the qualitative data into vectors\n",
    "from sklearn.feature_extraction.text import TfidfVectorizer\n",
    "vect = TfidfVectorizer(stop_words = 'english')\n",
    "dtm = vect.fit_transform(payroll.Job_title)"
   ]
  },
  {
   "cell_type": "markdown",
   "metadata": {
    "_cell_guid": "73f0c9b7-44f4-2bcb-6e2a-4fba98f697d6",
    "_uuid": "614c271a6468088c991f5ecfc288a9d45bfe1209"
   },
   "source": [
    "**Split the data into training and testing datasets**"
   ]
  },
  {
   "cell_type": "code",
   "execution_count": 18,
   "metadata": {
    "_cell_guid": "a3f4951b-c078-680d-44db-c52ad6619b26",
    "_uuid": "8bffa137bd7d5082fe7dad06a396770a9ed3d6b9"
   },
   "outputs": [],
   "source": [
    "from sklearn.cross_validation import train_test_split\n",
    "\n",
    "X = dtm\n",
    "y = payroll.Annual_sal\n",
    "\n",
    "X_train, X_test, y_train, y_test = train_test_split(X, y, random_state = 100)"
   ]
  },
  {
   "cell_type": "markdown",
   "metadata": {
    "_cell_guid": "f4c48fec-8da9-5caf-4a91-d81ad811393e",
    "_uuid": "a2d7bec5fe3b0ab6dcf46efbed4dd055cafee30c"
   },
   "source": [
    "<b>Random Forest Regressor</b> : It is a form of ensemble learning, it uses many randomized decision trees to<br>\n",
    "predict the outcome, hence the name.\n",
    "\n",
    "<b>Regression</b> is used to predict continous variables whereas <b>Classification</b> is used for predicting<br>\n",
    "discrete values\n"
   ]
  },
  {
   "cell_type": "code",
   "execution_count": 19,
   "metadata": {
    "_cell_guid": "71ae7f0b-a28c-2d66-d8a3-0eede6ba255c",
    "_uuid": "3f2397db67b475d7a0adf887f965d9e689bcf4df"
   },
   "outputs": [
    {
     "data": {
      "text/plain": [
       "RandomForestRegressor(bootstrap=True, criterion='mse', max_depth=None,\n",
       "           max_features='auto', max_leaf_nodes=None,\n",
       "           min_impurity_decrease=0.0, min_impurity_split=None,\n",
       "           min_samples_leaf=1, min_samples_split=2,\n",
       "           min_weight_fraction_leaf=0.0, n_estimators=10, n_jobs=1,\n",
       "           oob_score=False, random_state=None, verbose=0, warm_start=False)"
      ]
     },
     "execution_count": 19,
     "metadata": {},
     "output_type": "execute_result"
    }
   ],
   "source": [
    "from sklearn.ensemble import RandomForestRegressor\n",
    "\n",
    "clf = RandomForestRegressor()\n",
    "clf.fit(X_train, y_train)"
   ]
  },
  {
   "cell_type": "code",
   "execution_count": 20,
   "metadata": {
    "_cell_guid": "bcbda5bb-f0cc-7ef0-1345-ebe34bdf9524",
    "_uuid": "4d5cb56c12e2cb50767b879c5c9223a9edeb85a1"
   },
   "outputs": [
    {
     "name": "stdout",
     "output_type": "stream",
     "text": [
      "Root mean Score Training: 0.9599232290690844\n",
      "Root mean Score Testing: 0.9582234861605983\n"
     ]
    }
   ],
   "source": [
    "from sklearn.metrics import r2_score, mean_squared_error\n",
    "\n",
    "pred_train = clf.predict(X_train)\n",
    "pred_test = clf.predict(X_test)\n",
    "\n",
    "print('Root mean Score Training: {}'.format(r2_score(y_train, pred_train)))\n",
    "print('Root mean Score Testing: {}'.format(r2_score(y_test, pred_test)))"
   ]
  },
  {
   "cell_type": "markdown",
   "metadata": {
    "_cell_guid": "11b4f4f1-9944-94f3-c95a-177aa1272ee5",
    "_uuid": "e84b60ba1b687ec5348a5898c60918d134435257"
   },
   "source": [
    "**Visualization for training and testing data prediction accuracy**"
   ]
  },
  {
   "cell_type": "code",
   "execution_count": 21,
   "metadata": {
    "_cell_guid": "68c0c9f0-0320-941e-f44f-677d4c8ad3bb",
    "_uuid": "651990ae0b2bae6011498041091d29c0ccb26795"
   },
   "outputs": [
    {
     "data": {
      "image/png": "[encoded data removed]",
      "text/plain": [
       "<matplotlib.figure.Figure at 0x12eaa24ab00>"
      ]
     },
     "metadata": {},
     "output_type": "display_data"
    }
   ],
   "source": [
    "plt.figure(figsize=(12,6))\n",
    "plt.subplot(1,2,1)\n",
    "plt.plot(np.arange(len(pred_train)), y_train - pred_train,'o')\n",
    "plt.axhline(0)\n",
    "plt.subplot(1,2,2)\n",
    "plt.plot(np.arange(len(pred_test)), y_test - pred_test,'o')\n",
    "plt.axhline(0)\n",
    "plt.tight_layout()"
   ]
  },
  {
   "cell_type": "markdown",
   "metadata": {
    "_cell_guid": "a0d7e348-ccde-5a5f-2cad-e90c4ea8adf2",
    "_uuid": "e8dd0d7f517a01611fee4c86d9627b690fd3d6f4"
   },
   "source": [
    "**Linear Regression**"
   ]
  },
  {
   "cell_type": "code",
   "execution_count": 22,
   "metadata": {
    "_cell_guid": "736f522a-7cf5-3107-2e7e-5ce4cd8660b9",
    "_uuid": "2d51bf85125b0564dda4e619610a2e7d9d60f122"
   },
   "outputs": [],
   "source": [
    "# Selecting the features and creating train test split\n",
    "y = payroll[\"Average Benefit Cost\"]\n",
    "X = payroll[['Annual_sal','Q1 Payments','Q2 Payments','Q3 Payments','Q4 Payments']].copy()\n",
    "X_train, X_test, y_train, y_test = train_test_split(X, y, test_size=0.4)"
   ]
  },
  {
   "cell_type": "markdown",
   "metadata": {
    "_cell_guid": "f7e3e11f-1276-206d-40c3-7bc9fe2abee3",
    "_uuid": "efff3941b00b81bed3c5350ec7b5aabb0e5fa3d8"
   },
   "source": [
    "**Training the model**"
   ]
  },
  {
   "cell_type": "code",
   "execution_count": 23,
   "metadata": {
    "_cell_guid": "c7393b81-e542-1c3b-f5b2-a9e3bc09d3b4",
    "_uuid": "52ac5a3e6d466c3147bb6c0b59cccf74cf7d3619"
   },
   "outputs": [
    {
     "name": "stdout",
     "output_type": "stream",
     "text": [
      "3201.2574844676965\n"
     ]
    }
   ],
   "source": [
    "from sklearn.linear_model import LinearRegression\n",
    "lm = LinearRegression()\n",
    "lm.fit(X_train,y_train)\n",
    "print(lm.intercept_)"
   ]
  },
  {
   "cell_type": "code",
   "execution_count": 24,
   "metadata": {
    "_cell_guid": "1a420e2c-0a89-3777-420d-ad38ea9ba32f",
    "_uuid": "e20c71c5f30f8dfd2994e49c48f637909bbea546"
   },
   "outputs": [
    {
     "name": "stdout",
     "output_type": "stream",
     "text": [
      "             Coefficient\n",
      "Q1 Payments     0.160533\n",
      "Q4 Payments     0.052283\n",
      "Q2 Payments     0.034651\n",
      "Annual_sal      0.033592\n",
      "Q3 Payments    -0.035710\n"
     ]
    }
   ],
   "source": [
    "coeff_df = pd.DataFrame(lm.coef_,X.columns,columns=['Coefficient'])\n",
    "ranked_suburbs = coeff_df.sort_values(\"Coefficient\", ascending = False)\n",
    "print(ranked_suburbs)"
   ]
  },
  {
   "cell_type": "markdown",
   "metadata": {
    "_cell_guid": "70133ebe-11aa-450a-08d2-c190cf99587e",
    "_uuid": "4d8c623393c7c914c9469705b7819f3e7d89ad0c"
   },
   "source": [
    "**The coefficient suggests that it has a poor coorelation with the target, hence a poor model is expected**"
   ]
  },
  {
   "cell_type": "code",
   "execution_count": 25,
   "metadata": {
    "_cell_guid": "228e2c63-7b2f-645a-b9e4-390f3d7cc759",
    "_uuid": "42e105bec2efdb3dd8547d2367fe6af6eef7f943"
   },
   "outputs": [
    {
     "name": "stdout",
     "output_type": "stream",
     "text": [
      "Root mean Score Training: 0.5151659636725563\n",
      "Root mean Score Testing: 0.5228671593821188\n"
     ]
    }
   ],
   "source": [
    "pred_train = lm.predict(X_train)\n",
    "pred_test = lm.predict(X_test)\n",
    "print('Root mean Score Training: {}'.format(r2_score(y_train, pred_train)))\n",
    "print('Root mean Score Testing: {}'.format(r2_score(y_test, pred_test)))"
   ]
  },
  {
   "cell_type": "markdown",
   "metadata": {
    "_cell_guid": "af949c59-4101-a2df-949a-3112633ffac3",
    "_uuid": "d1149ba4002182e620b47b15633545c18d8aef3a"
   },
   "source": [
    "**Processing for creating Best Fit Line**"
   ]
  },
  {
   "cell_type": "code",
   "execution_count": 26,
   "metadata": {
    "_cell_guid": "dd48871b-2bc6-fee5-69a1-13dee7e4d44b",
    "_uuid": "7d2eff015082812c3837d43e880c8b2d0864f43c"
   },
   "outputs": [],
   "source": [
    "new = pd.Series(list(y_test)).values\n",
    "new_list =[]\n",
    "for i in range(len(new)):\n",
    "    new_list.insert(i,new[i])\n",
    "new_list = [float(q) for q in new_list]\n",
    "new_list = [round(q) for q in new_list]\n",
    "pred_test = [float(q) for q in pred_test]\n",
    "pred_test = [round(q) for q in pred_test]"
   ]
  },
  {
   "cell_type": "code",
   "execution_count": 27,
   "metadata": {
    "_cell_guid": "dc9760ba-c923-9d72-3a3b-55f439cc721a",
    "_uuid": "65653dc3558bb1259f5ee913ff700dc543e71dc9"
   },
   "outputs": [],
   "source": [
    "# Logic for finding the line of best split\n",
    "def best_fit(X, Y):\n",
    "\n",
    "    xbar = sum(X)/len(X)\n",
    "    ybar = sum(Y)/len(Y)\n",
    "    n = len(X) # or len(Y)\n",
    "\n",
    "    numer = sum([xi*yi for xi,yi in zip(X, Y)]) - n * xbar * ybar\n",
    "    denum = sum([xi**2 for xi in X]) - n * xbar**2\n",
    "    b = numer/denum\n",
    "    a = ybar - b * xbar\n",
    "    print('best fit line:\\ny = {:.2f} + {:.2f}x'.format(a, b))\n",
    "    return(a,b)"
   ]
  },
  {
   "cell_type": "code",
   "execution_count": 28,
   "metadata": {
    "_cell_guid": "aaae03ac-8897-aead-ab4d-4a4782d44108",
    "_uuid": "fbca559b3e770e8af50cbd3e05bcc876a1c5bcc7"
   },
   "outputs": [
    {
     "name": "stdout",
     "output_type": "stream",
     "text": [
      "best fit line:\n",
      "y = 4718.90 + 0.51x\n"
     ]
    }
   ],
   "source": [
    "a, b = best_fit(new_list, pred_test)"
   ]
  },
  {
   "cell_type": "markdown",
   "metadata": {
    "_cell_guid": "bb2ecf71-c9d2-8a64-2526-79508d3f537b",
    "_uuid": "fdbdba8c2f099def8b174c585da9ffcdaa235a99"
   },
   "source": [
    "**Visualizing the Best fit line**"
   ]
  },
  {
   "cell_type": "code",
   "execution_count": 29,
   "metadata": {
    "_cell_guid": "2db800b3-74c7-04b5-1cd3-283bf89d54b4",
    "_uuid": "7f94c30feb94c79eec27f95693bb8a8f518f96a6"
   },
   "outputs": [
    {
     "data": {
      "text/plain": [
       "[<matplotlib.lines.Line2D at 0x12eac4ccb38>]"
      ]
     },
     "execution_count": 29,
     "metadata": {},
     "output_type": "execute_result"
    },
    {
     "data": {
      "image/png": "[encoded data removed]",
      "text/plain": [
       "<matplotlib.figure.Figure at 0x12eac4ccac8>"
      ]
     },
     "metadata": {},
     "output_type": "display_data"
    }
   ],
   "source": [
    "plt.scatter(new_list, pred_test)\n",
    "yfit = [a + b * xi for xi in new_list]\n",
    "plt.plot(new_list, yfit)"
   ]
  },
  {
   "cell_type": "code",
   "execution_count": null,
   "metadata": {
    "_cell_guid": "a3f16fb0-75c6-e49c-4c90-31ee0f8e97be",
    "_uuid": "7e4c4db9853aa0bf22359843692b502371d31e0b"
   },
   "outputs": [],
   "source": []
  }
 ],
 "metadata": {
  "_change_revision": 0,
  "_is_fork": false,
  "kernelspec": {
   "display_name": "Python 3",
   "language": "python",
   "name": "python3"
  },
  "language_info": {
   "codemirror_mode": {
    "name": "ipython",
    "version": 3
   },
   "file_extension": ".py",
   "mimetype": "text/x-python",
   "name": "python",
   "nbconvert_exporter": "python",
   "pygments_lexer": "ipython3",
   "version": "3.6.3"
  }
 },
 "nbformat": 4,
 "nbformat_minor": 1
}
