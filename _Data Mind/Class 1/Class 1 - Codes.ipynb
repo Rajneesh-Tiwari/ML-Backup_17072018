{
 "cells": [
  {
   "cell_type": "markdown",
   "metadata": {
    "slideshow": {
     "slide_type": "-"
    }
   },
   "source": [
    "## <font color=Grey>**Data Mind Classes**</font> \n",
    "### <font color=Black>Class 1: Python libraries and python syntax </font> "
   ]
  },
  {
   "cell_type": "markdown",
   "metadata": {
    "slideshow": {
     "slide_type": "-"
    }
   },
   "source": [
    "<div class=\"alert alert-block alert-info\">\n",
    "\n",
    "### Contents: \n",
    "- Python libraries and examples\n",
    "- Python syntax\n",
    "\n",
    "> There are many ways to install a library in your python environment. We will see some ways to do so."
   ]
  },
  {
   "cell_type": "markdown",
   "metadata": {},
   "source": [
    "<div class=\"alert alert-block alert-info\">\n",
    "\n",
    "### From inside your jupyter notebook\n",
    "- Step 1: Type **\"!pip install library_name\"**\n",
    "- Step 2: Press **Ctrl+Enter** on that cell\n",
    "- You have just installed the library. This is required only once.\n",
    "- To load the library, use **port library_name**"
   ]
  },
  {
   "cell_type": "markdown",
   "metadata": {},
   "source": [
    "<div class=\"alert alert-block alert-info\">\n"
   ]
  },
  {
   "cell_type": "code",
   "execution_count": null,
   "metadata": {
    "scrolled": true
   },
   "outputs": [],
   "source": [
    "### We want to install numpy - python backage for linear algebra operations\n",
    "# !pip install numpy"
   ]
  },
  {
   "cell_type": "code",
   "execution_count": 1,
   "metadata": {
    "scrolled": true
   },
   "outputs": [],
   "source": [
    "####  to load the numpy library\n",
    "import numpy as np\n",
    "%matplotlib inline"
   ]
  },
  {
   "cell_type": "code",
   "execution_count": 2,
   "metadata": {
    "scrolled": true
   },
   "outputs": [
    {
     "name": "stderr",
     "output_type": "stream",
     "text": [
      "C:\\Users\\ADMIN\\Anaconda3\\envs\\Pytorch_final\\lib\\site-packages\\sklearn\\cross_validation.py:41: DeprecationWarning: This module was deprecated in version 0.18 in favor of the model_selection module into which all the refactored classes and functions are moved. Also note that the interface of the new CV iterators are different from that of this module. This module will be removed in 0.20.\n",
      "  \"This module will be removed in 0.20.\", DeprecationWarning)\n",
      "C:\\Users\\ADMIN\\Anaconda3\\envs\\Pytorch_final\\lib\\site-packages\\sklearn\\grid_search.py:42: DeprecationWarning: This module was deprecated in version 0.18 in favor of the model_selection module into which all the refactored classes and functions are moved. This module will be removed in 0.20.\n",
      "  DeprecationWarning)\n",
      "C:\\Users\\ADMIN\\Anaconda3\\envs\\Pytorch_final\\lib\\site-packages\\sklearn\\learning_curve.py:22: DeprecationWarning: This module was deprecated in version 0.18 in favor of the model_selection module into which all the functions are moved. This module will be removed in 0.20\n",
      "  DeprecationWarning)\n"
     ]
    }
   ],
   "source": [
    "#### Some important libraries are loaded as below:\n",
    "\n",
    "import numpy as np ### linear algebra\n",
    "import pandas as pd ### data manupulation\n",
    "import matplotlib.pyplot as plt ### visualization\n",
    "import seaborn as sns ### visualization\n",
    "from sklearn import * ### machine learning models  ###  THIS IS BAD WAY OF IMPORTING ###"
   ]
  },
  {
   "cell_type": "markdown",
   "metadata": {},
   "source": [
    " "
   ]
  },
  {
   "cell_type": "markdown",
   "metadata": {},
   "source": [
    "<div class=\"alert alert-block alert-info\">\n",
    "\n",
    "### Python Syntax"
   ]
  },
  {
   "cell_type": "markdown",
   "metadata": {},
   "source": [
    "<div class=\"alert alert-block alert-info\">\n",
    "\n",
    "#### This section will demonstrate most common python syntax. We will cover some rare ones along the way in the class\n",
    "\n",
    "> ***Python Line Structure***: Each python program consists of multiple lines of code and every logical new line of code is terminated by a newline (by pressing ENTER)\n",
    "\n",
    "> Note that the print statements is in brackets else it will throw an error in Python 3.5"
   ]
  },
  {
   "cell_type": "code",
   "execution_count": 2,
   "metadata": {
    "scrolled": true
   },
   "outputs": [
    {
     "name": "stdout",
     "output_type": "stream",
     "text": [
      "sum of a,b is 3\n"
     ]
    }
   ],
   "source": [
    "import numpy as np  #### linear algebra operations\n",
    "\n",
    "a = 1 #### now this is a logical line of code such that 1 is assigned to a\n",
    "\n",
    "b = 2 #### to being a new logical line we presses ENTER after line 1 or newline is introduced to go to next logical line\n",
    "\n",
    "print (\"sum of a,b is {}\".format(a+b))"
   ]
  },
  {
   "cell_type": "markdown",
   "metadata": {},
   "source": [
    "<div class=\"alert alert-block alert-info\">\n",
    "\n",
    "> ***Commenting codes***: Sometimes we want to add useful comments to the code so that it improves readibility and understanding by other developers in the same team. Commenting is python is achieved by using \"#\" or triple quotes ''' comment '''"
   ]
  },
  {
   "cell_type": "code",
   "execution_count": 7,
   "metadata": {
    "scrolled": true
   },
   "outputs": [
    {
     "name": "stdout",
     "output_type": "stream",
     "text": [
      "sum is 3\n"
     ]
    }
   ],
   "source": [
    "#### This is a comment. \n",
    "def custom_sum(a,b): #### this program adds two numbers and prints out their sum\n",
    "    print (\"sum is {}\".format(a+b)) ### print \n",
    "\n",
    "custom_sum(1,2)"
   ]
  },
  {
   "cell_type": "code",
   "execution_count": 9,
   "metadata": {},
   "outputs": [
    {
     "name": "stdout",
     "output_type": "stream",
     "text": [
      "sum is someday\n"
     ]
    }
   ],
   "source": [
    "### The above function will work on concatenating strings as well. As long as both the args are seither numierc or string it will work\n",
    "custom_sum(\"some\",\"day\")"
   ]
  },
  {
   "cell_type": "code",
   "execution_count": 8,
   "metadata": {
    "scrolled": true
   },
   "outputs": [
    {
     "name": "stdout",
     "output_type": "stream",
     "text": [
      "sum is 25\n"
     ]
    }
   ],
   "source": [
    "\n",
    "'''\n",
    "Another example of comment is by covering the entire content in triple quotes as shown, this comments the section\n",
    "a=1\n",
    "b=2\n",
    "'''\n",
    "\n",
    "a=2\n",
    "b=23\n",
    "\n",
    "custom_sum(a,b)"
   ]
  },
  {
   "cell_type": "markdown",
   "metadata": {},
   "source": [
    "<div class=\"alert alert-block alert-info\">\n",
    "\n",
    ">** Program Blocks**: Python uses indentation (spaces and tabs) to understand and define the code blocks. Code blocks could be functions or class or any other object.\n",
    "\n",
    "> - Generally 4 spaces are considered best practice for indentation ; however, i use tabs"
   ]
  },
  {
   "cell_type": "code",
   "execution_count": 13,
   "metadata": {
    "scrolled": true
   },
   "outputs": [],
   "source": [
    "#### This exmaple illustrates how to write a simple function that returns remainder of two numbers. \n",
    "def remainder(x,y):\n",
    "    if x != 0 and y != 0:  #### Notice the indentation block at the begining of this line\n",
    "        return (x%y)       #### Notice the indentation block at the begining of this line\n",
    "    else:                  #### Notice the indentation block at the begining of this line, else has to align with corresponding if\n",
    "        print(\"Enter valid numbers\") #### print has to align with return in the if block"
   ]
  },
  {
   "cell_type": "code",
   "execution_count": 27,
   "metadata": {
    "scrolled": true
   },
   "outputs": [
    {
     "name": "stdout",
     "output_type": "stream",
     "text": [
      "1\n"
     ]
    }
   ],
   "source": [
    "a = remainder(1,4)\n",
    "print(a)"
   ]
  },
  {
   "cell_type": "markdown",
   "metadata": {},
   "source": [
    "<div class=\"alert alert-block alert-warning\">\n",
    "\n",
    "> **Python reserved words**: Lastly, lets look at **python reserved words**. These words cannot be used in a user-defined sense and are used internally by python for various purposes. We will avoid using these words in our codes for any user created object. We can however still use these for computation purposes"
   ]
  },
  {
   "cell_type": "code",
   "execution_count": 26,
   "metadata": {
    "scrolled": true
   },
   "outputs": [
    {
     "data": {
      "text/plain": [
       "['False',\n",
       " 'None',\n",
       " 'True',\n",
       " 'and',\n",
       " 'as',\n",
       " 'assert',\n",
       " 'break',\n",
       " 'class',\n",
       " 'continue',\n",
       " 'def',\n",
       " 'del',\n",
       " 'elif',\n",
       " 'else',\n",
       " 'except',\n",
       " 'finally',\n",
       " 'for',\n",
       " 'from',\n",
       " 'global',\n",
       " 'if',\n",
       " 'import',\n",
       " 'in',\n",
       " 'is',\n",
       " 'lambda',\n",
       " 'nonlocal',\n",
       " 'not',\n",
       " 'or',\n",
       " 'pass',\n",
       " 'raise',\n",
       " 'return',\n",
       " 'try',\n",
       " 'while',\n",
       " 'with',\n",
       " 'yield']"
      ]
     },
     "execution_count": 26,
     "metadata": {},
     "output_type": "execute_result"
    }
   ],
   "source": [
    "#### keyword library holds list of all the reserved keywords that cannot be used as names for user defined objects. We can use these for comparison, computation purposes\n",
    "import keyword\n",
    "keyword.kwlist"
   ]
  },
  {
   "cell_type": "code",
   "execution_count": 32,
   "metadata": {},
   "outputs": [
    {
     "ename": "SyntaxError",
     "evalue": "invalid syntax (<ipython-input-32-026069bafa6c>, line 1)",
     "output_type": "error",
     "traceback": [
      "\u001b[1;36m  File \u001b[1;32m\"<ipython-input-32-026069bafa6c>\"\u001b[1;36m, line \u001b[1;32m1\u001b[0m\n\u001b[1;33m    def for(a,b):\u001b[0m\n\u001b[1;37m          ^\u001b[0m\n\u001b[1;31mSyntaxError\u001b[0m\u001b[1;31m:\u001b[0m invalid syntax\n"
     ]
    }
   ],
   "source": [
    "def for(a,b): \n",
    "    return (a+b)"
   ]
  },
  {
   "cell_type": "markdown",
   "metadata": {},
   "source": [
    "<div class=\"alert alert-block alert-warning\">\n",
    "\n",
    "> In the above, I am using for as a name for my sum function and python ***throws an error saying its invalid syntax*** since for is a ***reserved word***. if i replace for with any other wods the function will work"
   ]
  },
  {
   "cell_type": "markdown",
   "metadata": {},
   "source": [
    "<div class=\"alert alert-block alert-danger\">\n",
    "\n",
    "#### Some properties of OOPL\n",
    "> Python is a pure object-oriented language. Operators are simply methods on a class. The Python interpreter will convert an infix operator to an instance method call."
   ]
  },
  {
   "cell_type": "code",
   "execution_count": 2,
   "metadata": {},
   "outputs": [
    {
     "name": "stdout",
     "output_type": "stream",
     "text": [
      "7\n"
     ]
    }
   ],
   "source": [
    "### Lets do a simple sum on integers a,b\n",
    "c = 5+2\n",
    "print(c)"
   ]
  },
  {
   "cell_type": "code",
   "execution_count": 4,
   "metadata": {},
   "outputs": [
    {
     "name": "stdout",
     "output_type": "stream",
     "text": [
      "7\n"
     ]
    }
   ],
   "source": [
    "c = (5).__add__(2)\n",
    "print(c)"
   ]
  },
  {
   "cell_type": "markdown",
   "metadata": {},
   "source": [
    "<div class=\"alert alert-block alert-info\">\n",
    "\n",
    "> - Each object class has a number of methods usually denoted by \\__xyz\\__ associated with it. \n",
    "> - In the above cell we saw that integer class has \\__add\\__ method applicable on it by default. \n",
    "> - In fact, when we add 5+2, behind the hood the \\__add\\__ method is being called"
   ]
  },
  {
   "cell_type": "markdown",
   "metadata": {},
   "source": [
    "##### End of Class 1. See you next week. "
   ]
  }
 ],
 "metadata": {
  "kernelspec": {
   "display_name": "Python 3",
   "language": "python",
   "name": "python3"
  },
  "language_info": {
   "codemirror_mode": {
    "name": "ipython",
    "version": 3
   },
   "file_extension": ".py",
   "mimetype": "text/x-python",
   "name": "python",
   "nbconvert_exporter": "python",
   "pygments_lexer": "ipython3",
   "version": "3.6.5"
  }
 },
 "nbformat": 4,
 "nbformat_minor": 2
}
