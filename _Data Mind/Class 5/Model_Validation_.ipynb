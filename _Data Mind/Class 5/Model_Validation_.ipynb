{
 "cells": [
  {
   "cell_type": "markdown",
   "metadata": {},
   "source": [
    "## <font color=Grey>**Data Mind Classes**</font> \n",
    "### <font color=Black>Class 5: Validation</font> "
   ]
  },
  {
   "cell_type": "markdown",
   "metadata": {},
   "source": [
    "<div class=\"alert alert-block alert-info\">"
   ]
  },
  {
   "cell_type": "markdown",
   "metadata": {},
   "source": [
    "*In this step, you will learn to use model validation to measure the quality of your model. Measuring model quality is the key to iteratively improving your models.*\n",
    "\n",
    "# What is Model Validation\n",
    "You've built a model. But how good is it?\n",
    "\n",
    "You'll need to answer this question for almost every model you ever build. In most (though not necessarily all) applications, the relevant measure of model quality is predictive accuracy. In other words, will the model's predictions be close to what actually happens.\n",
    "\n",
    "Some people try answering this problem by making predictions with their *training data*. They compare those predictions to the actual target values in the *training data*. This approach has a critical shortcoming, which you will see in a moment (and which you'll subsequently see how to solve).\n",
    "\n",
    "Even with this simple approach, you'll need to summarize the model quality into a form that someone can understand. If you have predicted and actual home values for 10000 houses, you will inevitably end up with a mix of good and bad predictions. Looking through such a long list would be pointless.\n",
    "\n",
    "There are many metrics for summarizing model quality, but we'll start with one called Mean Absolute Error (also called MAE). Let's break down this metric starting with the last word, error.\n",
    "\n",
    "The prediction error for each house is: <br>\n",
    "error=actual−predicted\n",
    " \n",
    "So, if a house cost \\$150,000 and you predicted it would cost \\$100,000 the error is \\$50,000.\n",
    "\n",
    "With the MAE metric, we take the absolute value of each error. This converts each error to a positive number. We then take the average of those absolute errors. This is our measure of model quality. In plain English, it can be said as\n",
    "\n",
    "On average, our predictions are off by about X"
   ]
  },
  {
   "cell_type": "code",
   "execution_count": 1,
   "metadata": {
    "_cell_guid": "e87769a8-8ecd-4780-a4be-bed8b594452a",
    "_kg_hide-input": true,
    "_kg_hide-output": true,
    "_uuid": "3b5523c77f0da82dea03021007a8eb7ae74e65c8"
   },
   "outputs": [],
   "source": [
    "# Data Loading Code Hidden Here\n",
    "import pandas as pd\n",
    "\n",
    "# Load data\n",
    "melbourne_file_path = 'C:/Users/ADMIN/_Data Mind/Class 5/Melb hoising data/melb_data.csv'\n",
    "melbourne_data = pd.read_csv(melbourne_file_path) \n",
    "# Filter rows with missing values\n",
    "filtered_melbourne_data = melbourne_data.dropna(axis=0)\n",
    "# Choose target and predictors\n",
    "y = filtered_melbourne_data.Price\n",
    "melbourne_predictors = ['Rooms', 'Bathroom', 'Landsize', 'BuildingArea', \n",
    "                        'YearBuilt', 'Lattitude', 'Longtitude']\n",
    "X = filtered_melbourne_data[melbourne_predictors]"
   ]
  },
  {
   "cell_type": "markdown",
   "metadata": {
    "_cell_guid": "40172394-ae23-4e44-afe7-ffd40c747fcc",
    "_uuid": "9723d367b86d69b6de9f37e139090bb0849f0834"
   },
   "source": [
    "We then create the Decision tree model with this code:"
   ]
  },
  {
   "cell_type": "code",
   "execution_count": 2,
   "metadata": {
    "_cell_guid": "04269743-5cbb-47ab-93f1-5b608cd54d28",
    "_uuid": "df3403181c040831d0bc807de55cbd89cd60905f"
   },
   "outputs": [
    {
     "data": {
      "text/plain": [
       "DecisionTreeRegressor(criterion='mse', max_depth=None, max_features=None,\n",
       "           max_leaf_nodes=None, min_impurity_decrease=0.0,\n",
       "           min_impurity_split=None, min_samples_leaf=1,\n",
       "           min_samples_split=2, min_weight_fraction_leaf=0.0,\n",
       "           presort=False, random_state=None, splitter='best')"
      ]
     },
     "execution_count": 2,
     "metadata": {},
     "output_type": "execute_result"
    }
   ],
   "source": [
    "from sklearn.tree import DecisionTreeRegressor\n",
    "# Define model\n",
    "melbourne_model = DecisionTreeRegressor()\n",
    "# Fit model\n",
    "melbourne_model.fit(X, y)"
   ]
  },
  {
   "cell_type": "markdown",
   "metadata": {
    "_cell_guid": "600dda75-c67d-4f0a-bb68-08b55ccca7ab",
    "_uuid": "204aaf777db1e07ae238b3c5ff8b5b552f72d78a"
   },
   "source": [
    "The calculation of mean absolute error in the Melbourne data is"
   ]
  },
  {
   "cell_type": "code",
   "execution_count": 3,
   "metadata": {
    "_cell_guid": "4104b69e-5a02-479c-9684-323ed9af0f8b",
    "_uuid": "de553486eddb02741007b5f529b0fe6a1f7300aa"
   },
   "outputs": [
    {
     "data": {
      "text/plain": [
       "434.71594577146544"
      ]
     },
     "execution_count": 3,
     "metadata": {},
     "output_type": "execute_result"
    }
   ],
   "source": [
    "from sklearn.metrics import mean_absolute_error\n",
    "\n",
    "predicted_home_prices = melbourne_model.predict(X)\n",
    "mean_absolute_error(y, predicted_home_prices)"
   ]
  },
  {
   "cell_type": "markdown",
   "metadata": {
    "_cell_guid": "030a4791-a484-48b8-85e5-e5ab94cc07c6",
    "_uuid": "07a8221afe2b026623b0534a43379a1084010c8b"
   },
   "source": [
    "# The Problem with \"In-Sample\" Scores\n",
    "\n",
    "The measure we just computed can be called an \"in-sample\" score. We used a single set of houses (called a data sample) for both building the model and for calculating it's MAE score. This is bad.\n",
    "\n",
    "Imagine that, in the large real estate market, door color is unrelated to home price. However, in the sample of data you used to build the model, it may be that all homes with green doors were very expensive. The model's job is to find patterns that predict home prices, so it will see this pattern, and it will always predict high prices for homes with green doors.\n",
    "\n",
    "Since this pattern was originally derived from the training data, the model will appear accurate in the training data.\n",
    "\n",
    "But this pattern likely won't hold when the model sees new data, and the model would be very inaccurate (and cost us lots of money) when we applied it to our real estate business.\n",
    "\n",
    "Even a model capturing only happenstance relationships in the data, relationships that will not be repeated when new data, can appear to be very accurate on in-sample accuracy measurements.\n",
    "\n",
    "# Example\n",
    "\n",
    "Models' practical value come from making predictions on new data, so we should measure performance on data that wasn't used to build the model. The most straightforward way to do this is to exclude some data from the model-building process, and then use those to test the model's accuracy on data it hasn't seen before. This data is called **validation data**.\n",
    "\n",
    "The scikit-learn library has a function train_test_split to break up the data into two pieces, so the code to get a validation score looks like this:"
   ]
  },
  {
   "cell_type": "code",
   "execution_count": 4,
   "metadata": {
    "_cell_guid": "b9d1a3b5-dd2e-49ab-8902-64e350b025e6",
    "_uuid": "0b1782e8adc52855dc1168cf0ad5214c19a30330"
   },
   "outputs": [
    {
     "name": "stdout",
     "output_type": "stream",
     "text": [
      "251117.3193154034\n"
     ]
    }
   ],
   "source": [
    "from sklearn.model_selection import train_test_split\n",
    "\n",
    "# split data into training and validation data, for both predictors and target\n",
    "# The split is based on a random number generator. Supplying a numeric value to\n",
    "# the random_state argument guarantees we get the same split every time we\n",
    "# run this script.\n",
    "train_X, val_X, train_y, val_y = train_test_split(X, y,test_size=0.33,random_state = 0)\n",
    "# Define model\n",
    "melbourne_model = DecisionTreeRegressor()\n",
    "# Fit model\n",
    "melbourne_model.fit(train_X, train_y)\n",
    "\n",
    "# get predicted prices on validation data\n",
    "val_predictions = melbourne_model.predict(val_X)\n",
    "print(mean_absolute_error(val_y, val_predictions))"
   ]
  },
  {
   "cell_type": "markdown",
   "metadata": {},
   "source": [
    "# k fold cross validation"
   ]
  },
  {
   "cell_type": "code",
   "execution_count": 5,
   "metadata": {},
   "outputs": [
    {
     "name": "stdout",
     "output_type": "stream",
     "text": [
      "Fold:1 : MAE:195696.33306451613\n",
      "**************************************************\n",
      "Fold:2 : MAE:176738.53914447135\n",
      "**************************************************\n",
      "Fold:3 : MAE:157940.88458434222\n",
      "**************************************************\n",
      "Fold:4 : MAE:153474.08474576272\n",
      "**************************************************\n",
      "Fold:5 : MAE:131672.6795803067\n",
      "**************************************************\n",
      "Average MAE across all 5 fold: 163104.50422387983\n"
     ]
    },
    {
     "name": "stderr",
     "output_type": "stream",
     "text": [
      "C:\\Users\\ADMIN\\Anaconda3\\envs\\Pytorch\\lib\\site-packages\\ipykernel_launcher.py:16: FutureWarning: \n",
      "Passing list-likes to .loc or [] with any missing label will raise\n",
      "KeyError in the future, you can use .reindex() as an alternative.\n",
      "\n",
      "See the documentation here:\n",
      "http://pandas.pydata.org/pandas-docs/stable/indexing.html#deprecate-loc-reindex-listlike\n",
      "  app.launch_new_instance()\n",
      "C:\\Users\\ADMIN\\Anaconda3\\envs\\Pytorch\\lib\\site-packages\\ipykernel_launcher.py:17: FutureWarning: \n",
      "Passing list-likes to .loc or [] with any missing label will raise\n",
      "KeyError in the future, you can use .reindex() as an alternative.\n",
      "\n",
      "See the documentation here:\n",
      "http://pandas.pydata.org/pandas-docs/stable/indexing.html#deprecate-loc-reindex-listlike\n"
     ]
    }
   ],
   "source": [
    "### k fold cv\n",
    "import numpy as np\n",
    "from sklearn.model_selection import KFold\n",
    "from sklearn.tree import DecisionTreeRegressor\n",
    "from sklearn.metrics import mean_absolute_error\n",
    "\n",
    "folds = 5\n",
    "kf = KFold(n_splits=folds)  ### we do 5 fold cv\n",
    "kf.get_n_splits(X)\n",
    "\n",
    "error = []   ### to keep track of MAE\n",
    "k = 0\n",
    "for train_index, test_index in kf.split(X):   #### creates index of test and train for each split\n",
    "    #print(\"TRAIN:\", train_index, \"TEST:\", test_index)\n",
    "    k+=1\n",
    "    X_train, X_val = X.loc[train_index], X.loc[test_index]\n",
    "    y_train, y_val = y.loc[train_index], y.loc[test_index]\n",
    "    #print(X_train.isnull().any())\n",
    "    X_train,y_train,X_val,y_val = X_train.fillna(0),y_train.fillna(0),X_val.fillna(0),y_val.fillna(0)\n",
    "    #print(X_train.isnull().any())\n",
    "    melbourne_model = DecisionTreeRegressor()\n",
    "    melbourne_model.fit(X_train, y_train)\n",
    "    val_predictions = melbourne_model.predict(X_val)\n",
    "    print(\"Fold:{} : MAE:{}\".format(k,mean_absolute_error(y_val, val_predictions)))\n",
    "    error.append({'fold':k,'MAE':mean_absolute_error(y_val, val_predictions)})\n",
    "    print('*'*50)\n",
    "    \n",
    "print(\"Average MAE across all {} fold: {}\".format(folds,np.mean([i['MAE'] for i in error])))"
   ]
  },
  {
   "cell_type": "code",
   "execution_count": 6,
   "metadata": {},
   "outputs": [
    {
     "data": {
      "text/plain": [
       "<matplotlib.figure.Figure at 0x282d3aba898>"
      ]
     },
     "metadata": {},
     "output_type": "display_data"
    }
   ],
   "source": [
    "import matplotlib.pyplot as plt\n",
    "plt.plot([i['fold'] for i in error],[i['MAE'] for i in error],'bo')\n",
    "plt.title('Cross validation error across folds')\n",
    "plt.show()"
   ]
  },
  {
   "cell_type": "markdown",
   "metadata": {},
   "source": [
    "# Stratified k fold cross validation"
   ]
  },
  {
   "cell_type": "code",
   "execution_count": 7,
   "metadata": {},
   "outputs": [],
   "source": [
    "### stratified k fold using iris dataset\n",
    "from sklearn import datasets\n",
    "iris = datasets.load_iris()\n",
    "X,y = (iris.data),(iris.target)"
   ]
  },
  {
   "cell_type": "code",
   "execution_count": 8,
   "metadata": {},
   "outputs": [],
   "source": [
    "###drop other categories to keep only 2 categories for our logistic regression example\n",
    "X = X[iris.target != 2]\n",
    "y = y[iris.target != 2]"
   ]
  },
  {
   "cell_type": "code",
   "execution_count": 10,
   "metadata": {},
   "outputs": [
    {
     "name": "stdout",
     "output_type": "stream",
     "text": [
      "RATIO POS:NEG in original: 1.0:1\n",
      "**************************************************\n",
      "RATIO POS:NEG: 1.0:1\n",
      "Fold:1 : log_loss:0.028149993249989857\n",
      "**************************************************\n",
      "RATIO POS:NEG: 1.0:1\n",
      "Fold:2 : log_loss:0.02366737702165452\n",
      "**************************************************\n",
      "RATIO POS:NEG: 1.0:1\n",
      "Fold:3 : log_loss:0.03231732297404748\n",
      "**************************************************\n",
      "RATIO POS:NEG: 1.0:1\n",
      "Fold:4 : log_loss:0.025501362589796562\n",
      "**************************************************\n",
      "RATIO POS:NEG: 1.0:1\n",
      "Fold:5 : log_loss:0.04192288869034439\n",
      "**************************************************\n",
      "Average log_loss across all 5 fold: 0.03031178890516656\n"
     ]
    }
   ],
   "source": [
    "import numpy as np\n",
    "from sklearn.model_selection import StratifiedKFold\n",
    "from sklearn.linear_model import LogisticRegression\n",
    "from sklearn.metrics import log_loss\n",
    "\n",
    "folds = 5\n",
    "kf = StratifiedKFold(n_splits=folds)  ### we do 5 fold stratified cv\n",
    "kf.get_n_splits(X,y)\n",
    "X = X[]\n",
    "error = []   ### to keep track of MAE\n",
    "k = 0\n",
    "print(\"RATIO POS:NEG in original: {}:1\".format(np.sum(y==1)/np.sum(y==0)))\n",
    "print('*'*50)\n",
    "for train_index, test_index in kf.split(X,y):   #### creates index of test and train for each split\n",
    "    k+=1\n",
    "    X_train, X_val = X[train_index], X[test_index]\n",
    "    y_train, y_val = y[train_index], y[test_index]   \n",
    "    \n",
    "    print(\"RATIO POS:NEG: {}:1\".format(np.sum(y_train==1)/np.sum(y_train==0)))\n",
    "\n",
    "    iris_model = LogisticRegression()\n",
    "    iris_model.fit(X_train, y_train)\n",
    "    val_predictions = iris_model.predict_proba(X_val)\n",
    "    print(\"Fold:{} : log_loss:{}\".format(k,log_loss(y_val, val_predictions)))\n",
    "    error.append({'fold':k,'log_loss':log_loss(y_val, val_predictions)})\n",
    "    print('*'*50)\n",
    "\n",
    "print(\"Average log_loss across all {} fold: {}\".format(folds,np.mean([i['log_loss'] for i in error])))"
   ]
  },
  {
   "cell_type": "code",
   "execution_count": 11,
   "metadata": {},
   "outputs": [
    {
     "data": {
      "image/png": "[encoded data removed]",
      "text/plain": [
       "<matplotlib.figure.Figure at 0x282c19fc2e8>"
      ]
     },
     "metadata": {},
     "output_type": "display_data"
    }
   ],
   "source": [
    "import matplotlib.pyplot as plt\n",
    "plt.plot([i['fold'] for i in error],[i['log_loss'] for i in error],'bo')\n",
    "plt.title('Cross validation log_loss error across folds')\n",
    "plt.show()"
   ]
  },
  {
   "cell_type": "markdown",
   "metadata": {},
   "source": [
    "# Exercise:\n",
    "\n",
    "**Use Wine dataset to (assume we are predicting wine quality):** [Wine Dataset Link](https://archive.ics.uci.edu/ml/datasets/wine+quality)\n",
    "    - Create 80-20 index split for train test\n",
    "    - Create 5 fold CV indexes\n",
    "    - Create 5 fold stratified CV indexes"
   ]
  },
  {
   "attachments": {
    "image.png": {
     "image/png": "[encoded data removed]"
    }
   },
   "cell_type": "markdown",
   "metadata": {},
   "source": [
    "# For Time Series:\n",
    "![image.png](attachment:image.png)\n",
    "- In case of time series data, the valildation is not straight forward since there is an element of time involved.\n",
    "- Instead of randomly sampling data points for validation, we reserve last/most recent N% data points for validation set\n",
    "- For k fold we incrementaly take random samples of the original dataset and consider last N% out of those for validation"
   ]
  },
  {
   "cell_type": "markdown",
   "metadata": {},
   "source": [
    "# Final model build\n",
    "- Cross Validation is used only to understand the 'real' model performance and choose the best models\n",
    "- Eg: in case of Linear Regression if we have 15 variables, then we can build 15 regressions with stepwise incremental variables strating from Variable 1 to Variable 15\n",
    "    - In case case we measure K fold CV perforamnce of each of our 15 models\n",
    "    - We pick the model with best performance\n",
    "    - Rebuild the best model (using same parameters, variables in our case) on entire dataset and report the CV performance as the 'expected' performance\n",
    "    - k fold leads to using the entire dataset for model building, while the 80-20 approach leads to throwing away 20% data\n",
    "    - Standard libraries have both hyperparameters tuning and CV built in, so we dont have to write our own for loops as shown above"
   ]
  },
  {
   "cell_type": "markdown",
   "metadata": {},
   "source": [
    "# Question\n",
    "\n",
    "- How to choose value of k? - Usually 5 or 10 fold CV is best"
   ]
  }
 ],
 "metadata": {
  "kernelspec": {
   "display_name": "Python 3",
   "language": "python",
   "name": "python3"
  },
  "language_info": {
   "codemirror_mode": {
    "name": "ipython",
    "version": 3
   },
   "file_extension": ".py",
   "mimetype": "text/x-python",
   "name": "python",
   "nbconvert_exporter": "python",
   "pygments_lexer": "ipython3",
   "version": "3.6.5"
  }
 },
 "nbformat": 4,
 "nbformat_minor": 1
}
